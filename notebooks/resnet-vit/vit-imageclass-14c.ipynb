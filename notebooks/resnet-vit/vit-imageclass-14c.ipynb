{
 "cells": [
  {
   "cell_type": "code",
   "execution_count": 2,
   "metadata": {
    "_cell_guid": "b1076dfc-b9ad-4769-8c92-a6c4dae69d19",
    "_uuid": "8f2839f25d086af736a60e9eeb907d3b93b6e0e5",
    "execution": {
     "iopub.execute_input": "2025-05-07T20:06:15.399734Z",
     "iopub.status.busy": "2025-05-07T20:06:15.399420Z",
     "iopub.status.idle": "2025-05-07T20:06:15.405726Z",
     "shell.execute_reply": "2025-05-07T20:06:15.404503Z",
     "shell.execute_reply.started": "2025-05-07T20:06:15.399710Z"
    },
    "trusted": true
   },
   "outputs": [],
   "source": [
    "import torch\n",
    "import torch.nn as nn\n",
    "from torch.utils.data import DataLoader, random_split, WeightedRandomSampler\n",
    "from torchvision import datasets, transforms\n",
    "from PIL import ImageFile\n",
    "from collections import Counter\n",
    "from transformers import ViTForImageClassification\n",
    "from tqdm import tqdm"
   ]
  },
  {
   "cell_type": "code",
   "execution_count": 3,
   "metadata": {
    "execution": {
     "iopub.execute_input": "2025-05-07T20:06:21.831042Z",
     "iopub.status.busy": "2025-05-07T20:06:21.830767Z",
     "iopub.status.idle": "2025-05-07T20:06:21.834771Z",
     "shell.execute_reply": "2025-05-07T20:06:21.833999Z",
     "shell.execute_reply.started": "2025-05-07T20:06:21.831022Z"
    },
    "trusted": true
   },
   "outputs": [],
   "source": [
    "device = torch.device(\"cuda\" if torch.cuda.is_available() else \"cpu\")"
   ]
  },
  {
   "cell_type": "code",
   "execution_count": 40,
   "metadata": {
    "execution": {
     "iopub.execute_input": "2025-05-07T20:26:35.315008Z",
     "iopub.status.busy": "2025-05-07T20:26:35.314763Z",
     "iopub.status.idle": "2025-05-07T20:26:35.318365Z",
     "shell.execute_reply": "2025-05-07T20:26:35.317798Z",
     "shell.execute_reply.started": "2025-05-07T20:26:35.314991Z"
    },
    "trusted": true
   },
   "outputs": [],
   "source": [
    "DATA_DIR = \"/kaggle/input/14-classes-dataset/filtered_dataset\"\n",
    "BATCH_SIZE = 32\n",
    "NUM_CLASSES = 14\n",
    "EPOCHS = 5"
   ]
  },
  {
   "cell_type": "code",
   "execution_count": 5,
   "metadata": {
    "execution": {
     "iopub.execute_input": "2025-05-07T20:06:41.722572Z",
     "iopub.status.busy": "2025-05-07T20:06:41.721836Z",
     "iopub.status.idle": "2025-05-07T20:06:41.727470Z",
     "shell.execute_reply": "2025-05-07T20:06:41.726868Z",
     "shell.execute_reply.started": "2025-05-07T20:06:41.722547Z"
    },
    "trusted": true
   },
   "outputs": [],
   "source": [
    "train_transform = transforms.Compose([\n",
    "    transforms.Resize((224, 224)),\n",
    "    transforms.RandomHorizontalFlip(),\n",
    "    transforms.RandomRotation(10),\n",
    "    transforms.ToTensor(),\n",
    "    transforms.Normalize([0.485, 0.456, 0.406], [0.229, 0.224, 0.225])\n",
    "])\n",
    "\n",
    "val_transform = transforms.Compose([\n",
    "    transforms.Resize((224, 224)),\n",
    "    transforms.ToTensor(),\n",
    "    transforms.Normalize([0.485, 0.456, 0.406], [0.229, 0.224, 0.225])\n",
    "])"
   ]
  },
  {
   "cell_type": "code",
   "execution_count": 6,
   "metadata": {
    "execution": {
     "iopub.execute_input": "2025-05-07T20:06:49.348364Z",
     "iopub.status.busy": "2025-05-07T20:06:49.348126Z",
     "iopub.status.idle": "2025-05-07T20:06:49.351916Z",
     "shell.execute_reply": "2025-05-07T20:06:49.351161Z",
     "shell.execute_reply.started": "2025-05-07T20:06:49.348348Z"
    },
    "trusted": true
   },
   "outputs": [],
   "source": [
    "ImageFile.LOAD_TRUNCATED_IMAGES = True"
   ]
  },
  {
   "cell_type": "code",
   "execution_count": 7,
   "metadata": {
    "execution": {
     "iopub.execute_input": "2025-05-07T20:07:00.901582Z",
     "iopub.status.busy": "2025-05-07T20:07:00.901051Z",
     "iopub.status.idle": "2025-05-07T20:07:38.189245Z",
     "shell.execute_reply": "2025-05-07T20:07:38.188665Z",
     "shell.execute_reply.started": "2025-05-07T20:07:00.901558Z"
    },
    "trusted": true
   },
   "outputs": [],
   "source": [
    "full_dataset = datasets.ImageFolder(root=DATA_DIR, transform=train_transform)\n",
    "dataset_size = len(full_dataset)\n",
    "train_size = int(0.8 * dataset_size)\n",
    "val_size = int(0.1 * dataset_size)\n",
    "test_size = dataset_size - train_size - val_size\n",
    "train_dataset, val_dataset, test_dataset = random_split(full_dataset, [train_size, val_size, test_size])"
   ]
  },
  {
   "cell_type": "code",
   "execution_count": 8,
   "metadata": {
    "execution": {
     "iopub.execute_input": "2025-05-07T20:07:38.190525Z",
     "iopub.status.busy": "2025-05-07T20:07:38.190337Z",
     "iopub.status.idle": "2025-05-07T20:07:38.194065Z",
     "shell.execute_reply": "2025-05-07T20:07:38.193382Z",
     "shell.execute_reply.started": "2025-05-07T20:07:38.190511Z"
    },
    "trusted": true
   },
   "outputs": [],
   "source": [
    "val_dataset.dataset.transform = val_transform\n",
    "test_dataset.dataset.transform = val_transform"
   ]
  },
  {
   "cell_type": "code",
   "execution_count": 9,
   "metadata": {
    "execution": {
     "iopub.execute_input": "2025-05-07T20:07:38.195038Z",
     "iopub.status.busy": "2025-05-07T20:07:38.194760Z",
     "iopub.status.idle": "2025-05-07T20:07:38.224092Z",
     "shell.execute_reply": "2025-05-07T20:07:38.223391Z",
     "shell.execute_reply.started": "2025-05-07T20:07:38.195006Z"
    },
    "trusted": true
   },
   "outputs": [],
   "source": [
    "train_targets = [full_dataset.targets[i] for i in train_dataset.indices]\n",
    "class_counts = Counter(train_targets)\n",
    "total_samples = sum(class_counts.values())\n",
    "class_weights = [total_samples / (NUM_CLASSES * class_counts.get(i, 1)) for i in range(NUM_CLASSES)]\n",
    "sample_weights = [class_weights[label] for label in train_targets]\n",
    "sampler = WeightedRandomSampler(sample_weights, num_samples=len(sample_weights), replacement=True)"
   ]
  },
  {
   "cell_type": "code",
   "execution_count": 10,
   "metadata": {
    "execution": {
     "iopub.execute_input": "2025-05-07T20:07:38.225568Z",
     "iopub.status.busy": "2025-05-07T20:07:38.225345Z",
     "iopub.status.idle": "2025-05-07T20:07:38.241933Z",
     "shell.execute_reply": "2025-05-07T20:07:38.241272Z",
     "shell.execute_reply.started": "2025-05-07T20:07:38.225553Z"
    },
    "trusted": true
   },
   "outputs": [],
   "source": [
    "train_loader = DataLoader(train_dataset, batch_size=BATCH_SIZE, sampler=sampler)\n",
    "val_loader = DataLoader(val_dataset, batch_size=BATCH_SIZE, shuffle=False)\n",
    "test_loader = DataLoader(test_dataset, batch_size=BATCH_SIZE, shuffle=False)"
   ]
  },
  {
   "cell_type": "code",
   "execution_count": 43,
   "metadata": {
    "execution": {
     "iopub.execute_input": "2025-05-07T20:28:38.773818Z",
     "iopub.status.busy": "2025-05-07T20:28:38.773416Z",
     "iopub.status.idle": "2025-05-07T20:28:39.489859Z",
     "shell.execute_reply": "2025-05-07T20:28:39.489190Z",
     "shell.execute_reply.started": "2025-05-07T20:28:38.773796Z"
    },
    "trusted": true
   },
   "outputs": [
    {
     "name": "stderr",
     "output_type": "stream",
     "text": [
      "Some weights of ViTForImageClassification were not initialized from the model checkpoint at google/vit-base-patch16-224-in21k and are newly initialized: ['classifier.bias', 'classifier.weight']\n",
      "You should probably TRAIN this model on a down-stream task to be able to use it for predictions and inference.\n"
     ]
    },
    {
     "data": {
      "text/plain": [
       "ViTForImageClassification(\n",
       "  (vit): ViTModel(\n",
       "    (embeddings): ViTEmbeddings(\n",
       "      (patch_embeddings): ViTPatchEmbeddings(\n",
       "        (projection): Conv2d(3, 768, kernel_size=(16, 16), stride=(16, 16))\n",
       "      )\n",
       "      (dropout): Dropout(p=0.0, inplace=False)\n",
       "    )\n",
       "    (encoder): ViTEncoder(\n",
       "      (layer): ModuleList(\n",
       "        (0-11): 12 x ViTLayer(\n",
       "          (attention): ViTAttention(\n",
       "            (attention): ViTSelfAttention(\n",
       "              (query): Linear(in_features=768, out_features=768, bias=True)\n",
       "              (key): Linear(in_features=768, out_features=768, bias=True)\n",
       "              (value): Linear(in_features=768, out_features=768, bias=True)\n",
       "            )\n",
       "            (output): ViTSelfOutput(\n",
       "              (dense): Linear(in_features=768, out_features=768, bias=True)\n",
       "              (dropout): Dropout(p=0.0, inplace=False)\n",
       "            )\n",
       "          )\n",
       "          (intermediate): ViTIntermediate(\n",
       "            (dense): Linear(in_features=768, out_features=3072, bias=True)\n",
       "            (intermediate_act_fn): GELUActivation()\n",
       "          )\n",
       "          (output): ViTOutput(\n",
       "            (dense): Linear(in_features=3072, out_features=768, bias=True)\n",
       "            (dropout): Dropout(p=0.0, inplace=False)\n",
       "          )\n",
       "          (layernorm_before): LayerNorm((768,), eps=1e-12, elementwise_affine=True)\n",
       "          (layernorm_after): LayerNorm((768,), eps=1e-12, elementwise_affine=True)\n",
       "        )\n",
       "      )\n",
       "    )\n",
       "    (layernorm): LayerNorm((768,), eps=1e-12, elementwise_affine=True)\n",
       "  )\n",
       "  (classifier): Linear(in_features=768, out_features=14, bias=True)\n",
       ")"
      ]
     },
     "execution_count": 43,
     "metadata": {},
     "output_type": "execute_result"
    }
   ],
   "source": [
    "model = ViTForImageClassification.from_pretrained(\n",
    "    \"google/vit-base-patch16-224-in21k\",\n",
    "    num_labels=NUM_CLASSES\n",
    ")\n",
    "model.to(device)"
   ]
  },
  {
   "cell_type": "code",
   "execution_count": 44,
   "metadata": {
    "execution": {
     "iopub.execute_input": "2025-05-07T20:28:42.255517Z",
     "iopub.status.busy": "2025-05-07T20:28:42.255258Z",
     "iopub.status.idle": "2025-05-07T20:28:42.260348Z",
     "shell.execute_reply": "2025-05-07T20:28:42.259785Z",
     "shell.execute_reply.started": "2025-05-07T20:28:42.255499Z"
    },
    "trusted": true
   },
   "outputs": [],
   "source": [
    "optimizer = torch.optim.AdamW(model.parameters(), lr=2e-5)\n",
    "criterion = nn.CrossEntropyLoss(weight=torch.tensor(class_weights).to(device))"
   ]
  },
  {
   "cell_type": "code",
   "execution_count": 46,
   "metadata": {
    "execution": {
     "iopub.execute_input": "2025-05-07T20:29:07.367234Z",
     "iopub.status.busy": "2025-05-07T20:29:07.366483Z",
     "iopub.status.idle": "2025-05-07T20:29:07.372813Z",
     "shell.execute_reply": "2025-05-07T20:29:07.372086Z",
     "shell.execute_reply.started": "2025-05-07T20:29:07.367208Z"
    },
    "trusted": true
   },
   "outputs": [],
   "source": [
    "def train(epochs, train_loader, optimizer, model, criterion, device):\n",
    "    model.train()\n",
    "    for epoch in range(epochs):\n",
    "        epoch_starting_time = time.time()\n",
    "        print(f\"Epoch # {epoch + 1}/{epochs}\\n\")\n",
    "        epoch_loss = 0\n",
    "        \n",
    "        for batch_number, (batch_inputs, batch_labels) in enumerate(train_loader):\n",
    "            batch_inputs = batch_inputs.to(device)\n",
    "            batch_labels = batch_labels.to(device)\n",
    "\n",
    "            optimizer.zero_grad()\n",
    "            outputs = model(batch_inputs)\n",
    "\n",
    "            loss = criterion(outputs.logits, batch_labels)\n",
    "            epoch_loss += loss.item()\n",
    "\n",
    "            loss.backward()\n",
    "            optimizer.step()\n",
    "\n",
    "            if (batch_number + 1) % 100 == 0:\n",
    "                print(f\"batch number: {batch_number + 1}/{len(train_loader)}, Loss: {loss.item():.3f}\")\n",
    "\n",
    "        print(f\"\\nAverage training loss of epoch # {epoch + 1}: {epoch_loss / len(train_loader):.3f}\")\n",
    "        epoch_duration = time.time() - epoch_starting_time\n",
    "\n",
    "        epoch_duration_minutes = epoch_duration // 60\n",
    "\n",
    "        epoch_duration_seconds = epoch_duration - (epoch_duration_minutes * 60)\n",
    "        \n",
    "        print(f\"Epoch # {epoch + 1} took {epoch_duration_minutes} minutes and {epoch_duration_seconds:.3f} seconds\\n\")"
   ]
  },
  {
   "cell_type": "code",
   "execution_count": 47,
   "metadata": {
    "execution": {
     "iopub.execute_input": "2025-05-07T20:29:07.632312Z",
     "iopub.status.busy": "2025-05-07T20:29:07.631713Z",
     "iopub.status.idle": "2025-05-07T21:15:49.153517Z",
     "shell.execute_reply": "2025-05-07T21:15:49.152733Z",
     "shell.execute_reply.started": "2025-05-07T20:29:07.632293Z"
    },
    "trusted": true
   },
   "outputs": [
    {
     "name": "stdout",
     "output_type": "stream",
     "text": [
      "Epoch # 1/5\n",
      "\n",
      "batch number: 100/945, Loss: 2.251\n",
      "batch number: 200/945, Loss: 1.857\n",
      "batch number: 300/945, Loss: 1.487\n",
      "batch number: 400/945, Loss: 1.132\n",
      "batch number: 500/945, Loss: 1.144\n",
      "batch number: 600/945, Loss: 0.790\n",
      "batch number: 700/945, Loss: 0.717\n",
      "batch number: 800/945, Loss: 0.703\n",
      "batch number: 900/945, Loss: 0.728\n",
      "\n",
      "Average training loss of epoch # 1: 1.289\n",
      "Epoch # 1 took 9.0 minutes and 19.480 seconds\n",
      "\n",
      "Epoch # 2/5\n",
      "\n",
      "batch number: 100/945, Loss: 0.882\n",
      "batch number: 200/945, Loss: 0.757\n",
      "batch number: 300/945, Loss: 0.485\n",
      "batch number: 400/945, Loss: 0.682\n",
      "batch number: 500/945, Loss: 0.384\n",
      "batch number: 600/945, Loss: 0.429\n",
      "batch number: 700/945, Loss: 0.856\n",
      "batch number: 800/945, Loss: 0.392\n",
      "batch number: 900/945, Loss: 0.632\n",
      "\n",
      "Average training loss of epoch # 2: 0.608\n",
      "Epoch # 2 took 9.0 minutes and 20.039 seconds\n",
      "\n",
      "Epoch # 3/5\n",
      "\n",
      "batch number: 100/945, Loss: 0.301\n",
      "batch number: 200/945, Loss: 0.575\n",
      "batch number: 300/945, Loss: 0.341\n",
      "batch number: 400/945, Loss: 0.380\n",
      "batch number: 500/945, Loss: 0.625\n",
      "batch number: 600/945, Loss: 0.394\n",
      "batch number: 700/945, Loss: 0.347\n",
      "batch number: 800/945, Loss: 0.600\n",
      "batch number: 900/945, Loss: 0.511\n",
      "\n",
      "Average training loss of epoch # 3: 0.455\n",
      "Epoch # 3 took 9.0 minutes and 20.248 seconds\n",
      "\n",
      "Epoch # 4/5\n",
      "\n",
      "batch number: 100/945, Loss: 0.409\n",
      "batch number: 200/945, Loss: 0.225\n",
      "batch number: 300/945, Loss: 0.344\n",
      "batch number: 400/945, Loss: 0.227\n",
      "batch number: 500/945, Loss: 0.320\n",
      "batch number: 600/945, Loss: 0.504\n",
      "batch number: 700/945, Loss: 0.273\n",
      "batch number: 800/945, Loss: 0.198\n",
      "batch number: 900/945, Loss: 0.756\n",
      "\n",
      "Average training loss of epoch # 4: 0.341\n",
      "Epoch # 4 took 9.0 minutes and 20.612 seconds\n",
      "\n",
      "Epoch # 5/5\n",
      "\n",
      "batch number: 100/945, Loss: 0.105\n",
      "batch number: 200/945, Loss: 0.141\n",
      "batch number: 300/945, Loss: 0.371\n",
      "batch number: 400/945, Loss: 0.297\n",
      "batch number: 500/945, Loss: 0.276\n",
      "batch number: 600/945, Loss: 0.312\n",
      "batch number: 700/945, Loss: 0.133\n",
      "batch number: 800/945, Loss: 0.363\n",
      "batch number: 900/945, Loss: 0.195\n",
      "\n",
      "Average training loss of epoch # 5: 0.262\n",
      "Epoch # 5 took 9.0 minutes and 21.138 seconds\n",
      "\n"
     ]
    }
   ],
   "source": [
    "train(EPOCHS, train_loader, optimizer, model, criterion, device)"
   ]
  },
  {
   "cell_type": "code",
   "execution_count": 48,
   "metadata": {
    "execution": {
     "iopub.execute_input": "2025-05-07T21:15:49.155189Z",
     "iopub.status.busy": "2025-05-07T21:15:49.154971Z",
     "iopub.status.idle": "2025-05-07T21:15:49.160836Z",
     "shell.execute_reply": "2025-05-07T21:15:49.160114Z",
     "shell.execute_reply.started": "2025-05-07T21:15:49.155173Z"
    },
    "trusted": true
   },
   "outputs": [],
   "source": [
    "def evaluate_and_report(model, data_loader, criterion, device):\n",
    "    model.eval()\n",
    "    total_loss = 0\n",
    "    predicted_labels = []\n",
    "    true_labels = []\n",
    "\n",
    "    with torch.no_grad():\n",
    "        for inputs_batch, labels_batch in data_loader:\n",
    "            inputs_batch = inputs_batch.to(device)\n",
    "            labels_batch = labels_batch.to(device)\n",
    "\n",
    "            outputs = model(inputs_batch)\n",
    "            loss = criterion(outputs.logits, labels_batch)\n",
    "            total_loss += loss.item()\n",
    "\n",
    "            _, predictions = torch.max(outputs.logits, dim=1)\n",
    "            predicted_labels.extend(predictions.cpu().numpy())\n",
    "            true_labels.extend(labels_batch.cpu().numpy())\n",
    "\n",
    "    average_loss_test = total_loss / len(data_loader)\n",
    "    accuracy = (torch.tensor(predicted_labels) == torch.tensor(true_labels)).sum().item() / len(true_labels)\n",
    "\n",
    "    return average_loss_test, accuracy, predicted_labels, true_labels"
   ]
  },
  {
   "cell_type": "code",
   "execution_count": 49,
   "metadata": {
    "execution": {
     "iopub.execute_input": "2025-05-07T21:15:49.162216Z",
     "iopub.status.busy": "2025-05-07T21:15:49.161972Z",
     "iopub.status.idle": "2025-05-07T21:16:26.244388Z",
     "shell.execute_reply": "2025-05-07T21:16:26.243864Z",
     "shell.execute_reply.started": "2025-05-07T21:15:49.162195Z"
    },
    "trusted": true
   },
   "outputs": [],
   "source": [
    "average_loss_test, accuracy, predicted_labels, true_labels = evaluate_and_report(model, val_loader, criterion, device)"
   ]
  },
  {
   "cell_type": "code",
   "execution_count": 50,
   "metadata": {
    "execution": {
     "iopub.execute_input": "2025-05-07T21:16:26.246065Z",
     "iopub.status.busy": "2025-05-07T21:16:26.245850Z",
     "iopub.status.idle": "2025-05-07T21:16:26.250391Z",
     "shell.execute_reply": "2025-05-07T21:16:26.249859Z",
     "shell.execute_reply.started": "2025-05-07T21:16:26.246050Z"
    },
    "trusted": true
   },
   "outputs": [
    {
     "data": {
      "text/plain": [
       "0.6884155092494828"
      ]
     },
     "execution_count": 50,
     "metadata": {},
     "output_type": "execute_result"
    }
   ],
   "source": [
    "average_loss_test"
   ]
  },
  {
   "cell_type": "code",
   "execution_count": 51,
   "metadata": {
    "execution": {
     "iopub.execute_input": "2025-05-07T21:16:26.251136Z",
     "iopub.status.busy": "2025-05-07T21:16:26.250975Z",
     "iopub.status.idle": "2025-05-07T21:16:26.264958Z",
     "shell.execute_reply": "2025-05-07T21:16:26.264378Z",
     "shell.execute_reply.started": "2025-05-07T21:16:26.251124Z"
    },
    "trusted": true
   },
   "outputs": [
    {
     "data": {
      "text/plain": [
       "0.8023809523809524"
      ]
     },
     "execution_count": 51,
     "metadata": {},
     "output_type": "execute_result"
    }
   ],
   "source": [
    "accuracy"
   ]
  },
  {
   "cell_type": "code",
   "execution_count": 52,
   "metadata": {
    "execution": {
     "iopub.execute_input": "2025-05-07T21:16:26.265735Z",
     "iopub.status.busy": "2025-05-07T21:16:26.265534Z",
     "iopub.status.idle": "2025-05-07T21:16:26.288546Z",
     "shell.execute_reply": "2025-05-07T21:16:26.287899Z",
     "shell.execute_reply.started": "2025-05-07T21:16:26.265721Z"
    },
    "trusted": true
   },
   "outputs": [
    {
     "name": "stdout",
     "output_type": "stream",
     "text": [
      "\n",
      "Classification Report:\n",
      "              precision    recall  f1-score   support\n",
      "\n",
      "           0       0.89      0.75      0.81       260\n",
      "           1       0.85      0.64      0.73       277\n",
      "           2       0.92      0.87      0.89       259\n",
      "           3       0.99      0.99      0.99       278\n",
      "           4       0.87      0.84      0.86       283\n",
      "           5       0.66      0.75      0.70       265\n",
      "           6       0.71      0.87      0.78       287\n",
      "           7       0.77      0.62      0.69       286\n",
      "           8       0.72      0.72      0.72       239\n",
      "           9       0.87      0.83      0.85       286\n",
      "          10       0.60      0.78      0.67       247\n",
      "          11       0.81      0.96      0.88       269\n",
      "          12       0.92      0.89      0.91       275\n",
      "          13       0.75      0.72      0.74       269\n",
      "\n",
      "    accuracy                           0.80      3780\n",
      "   macro avg       0.81      0.80      0.80      3780\n",
      "weighted avg       0.81      0.80      0.80      3780\n",
      "\n"
     ]
    }
   ],
   "source": [
    "print(\"\\nClassification Report:\")\n",
    "print(classification_report(true_labels, predicted_labels))"
   ]
  },
  {
   "cell_type": "code",
   "execution_count": 53,
   "metadata": {
    "execution": {
     "iopub.execute_input": "2025-05-07T21:16:26.289507Z",
     "iopub.status.busy": "2025-05-07T21:16:26.289271Z",
     "iopub.status.idle": "2025-05-07T21:16:26.729213Z",
     "shell.execute_reply": "2025-05-07T21:16:26.728527Z",
     "shell.execute_reply.started": "2025-05-07T21:16:26.289488Z"
    },
    "trusted": true
   },
   "outputs": [
    {
     "data": {
      "image/png": "[encoded data removed]",
      "text/plain": [
       "<Figure size 640x480 with 2 Axes>"
      ]
     },
     "metadata": {},
     "output_type": "display_data"
    }
   ],
   "source": [
    "cm = confusion_matrix(true_labels, predicted_labels)\n",
    "disp = ConfusionMatrixDisplay(confusion_matrix=cm)\n",
    "disp.plot()\n",
    "plt.title(\"Confusion Matrix\")\n",
    "plt.show()"
   ]
  },
  {
   "cell_type": "code",
   "execution_count": 54,
   "metadata": {
    "execution": {
     "iopub.execute_input": "2025-05-07T21:20:31.623680Z",
     "iopub.status.busy": "2025-05-07T21:20:31.623108Z",
     "iopub.status.idle": "2025-05-07T21:20:32.056604Z",
     "shell.execute_reply": "2025-05-07T21:20:32.056060Z",
     "shell.execute_reply.started": "2025-05-07T21:20:31.623650Z"
    },
    "trusted": true
   },
   "outputs": [],
   "source": [
    "torch.save(model.state_dict(), \"ViT_bone_marrow_classifier.pth\")"
   ]
  },
  {
   "cell_type": "code",
   "execution_count": null,
   "metadata": {
    "trusted": true
   },
   "outputs": [],
   "source": [
    "# model = ViTForImageClassification.from_pretrained(\n",
    "#     \"google/vit-base-patch16-224-in21k\",\n",
    "#     num_labels=14\n",
    "# )\n",
    "\n",
    "# model.load_state_dict(torch.load(\"ViT_bone_marrow_classifier.pth\"))\n",
    "# model.to(device)\n",
    "# model.eval()"
   ]
  }
 ],
 "metadata": {
  "kaggle": {
   "accelerator": "none",
   "dataSources": [
    {
     "sourceId": 237738363,
     "sourceType": "kernelVersion"
    }
   ],
   "dockerImageVersionId": 31012,
   "isGpuEnabled": false,
   "isInternetEnabled": false,
   "language": "python",
   "sourceType": "notebook"
  },
  "kernelspec": {
   "display_name": "Python 3",
   "language": "python",
   "name": "python3"
  },
  "language_info": {
   "codemirror_mode": {
    "name": "ipython",
    "version": 3
   },
   "file_extension": ".py",
   "mimetype": "text/x-python",
   "name": "python",
   "nbconvert_exporter": "python",
   "pygments_lexer": "ipython3",
   "version": "3.11.11"
  }
 },
 "nbformat": 4,
 "nbformat_minor": 4
}
